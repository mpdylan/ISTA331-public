{
 "cells": [
  {
   "cell_type": "markdown",
   "metadata": {},
   "source": [
    "# Curve Fitting 2"
   ]
  },
  {
   "cell_type": "code",
   "execution_count": null,
   "metadata": {},
   "outputs": [],
   "source": [
    "import pandas as pd, numpy as np\n",
    "import matplotlib.pyplot as plt\n",
    "import statsmodels.api as sm"
   ]
  },
  {
   "cell_type": "markdown",
   "metadata": {},
   "source": [
    "### Review: OLS for linear and transformed-linear models"
   ]
  },
  {
   "cell_type": "markdown",
   "metadata": {},
   "source": [
    "#### Example 1: "
   ]
  },
  {
   "cell_type": "code",
   "execution_count": null,
   "metadata": {},
   "outputs": [],
   "source": [
    "djia = pd.read_csv('climate-change-2016.csv')\n",
    "djia.head(6)"
   ]
  },
  {
   "cell_type": "code",
   "execution_count": null,
   "metadata": {},
   "outputs": [],
   "source": [
    "djia.plot(x='CO2ppm', y='global_temp_anomaly', kind='scatter')\n",
    "ax = plt.gca()\n",
    "ax.set_ylabel(r\"Mean Global Temp Anomaly ($^\\circ C$))\", fontsize=16)\n",
    "ax.set_xlabel(r\"Atmospheric CO$_2$, (ppm)\", fontsize=16)\n",
    "plt.yticks(fontsize=18)\n",
    "plt.xticks(fontsize=18)\n",
    "plt.show()"
   ]
  },
  {
   "cell_type": "code",
   "execution_count": null,
   "metadata": {},
   "outputs": [],
   "source": [
    "carbon_array = sm.add_constant(djia['CO2ppm'].values) # necessary to get the intercept\n",
    "model = sm.OLS(djia['global_temp_anomaly'], carbon_array)\n",
    "results = model.fit()\n",
    "results.params"
   ]
  },
  {
   "cell_type": "code",
   "execution_count": null,
   "metadata": {},
   "outputs": [],
   "source": [
    "results.summary()"
   ]
  },
  {
   "cell_type": "code",
   "execution_count": null,
   "metadata": {},
   "outputs": [],
   "source": [
    "xs = np.arange(300, 420)\n",
    "ys = results.params['x1'] * xs + results.params['const']\n",
    "djia.plot(x='CO2ppm', y='global_temp_anomaly', kind='scatter')\n",
    "plt.plot(xs, ys, linewidth=4, color = 'orange')\n",
    "ax = plt.gca()\n",
    "ax.set_ylabel(r\"Mean Global Temp Anomaly ($^\\circ C$))\", fontsize=16)\n",
    "ax.set_xlabel(r\"Atmospheric CO$_2$, (ppm)\", fontsize=16)\n",
    "plt.yticks(fontsize=18)\n",
    "plt.xticks(fontsize=18)\n",
    "plt.show()"
   ]
  },
  {
   "cell_type": "code",
   "execution_count": null,
   "metadata": {},
   "outputs": [],
   "source": [
    "1 - results.mse_resid / results.mse_total"
   ]
  },
  {
   "cell_type": "code",
   "execution_count": null,
   "metadata": {},
   "outputs": [],
   "source": [
    "results.rsquared_adj"
   ]
  },
  {
   "cell_type": "markdown",
   "metadata": {},
   "source": [
    "#### Example 2:"
   ]
  },
  {
   "cell_type": "code",
   "execution_count": null,
   "metadata": {},
   "outputs": [],
   "source": [
    "djia.plot(x='DJIA', y='global_temp_anomaly', kind = 'scatter')\n",
    "ax = plt.gca()\n",
    "ax.set_ylabel(r\"Mean Global Temp Anomaly ($^\\circ C$))\", fontsize=16)\n",
    "ax.set_xlabel(r\"Dow Jones Industrial Average (\\$)\", fontsize=16)\n",
    "plt.xscale(\"log\")\n",
    "plt.yticks(fontsize=18)\n",
    "plt.xticks(fontsize=18)\n",
    "plt.show()"
   ]
  },
  {
   "cell_type": "code",
   "execution_count": null,
   "metadata": {},
   "outputs": [],
   "source": [
    "X = sm.add_constant(np.log10(djia['DJIA'])) # necessary to get the intercept\n",
    "model = sm.OLS(djia['global_temp_anomaly'], X)\n",
    "results = model.fit()"
   ]
  },
  {
   "cell_type": "code",
   "execution_count": null,
   "metadata": {},
   "outputs": [],
   "source": [
    "results.summary()"
   ]
  },
  {
   "cell_type": "code",
   "execution_count": null,
   "metadata": {},
   "outputs": [],
   "source": [
    "xs = np.arange(600, 20000)\n",
    "ys = results.params['DJIA'] * np.log10(xs) + results.params['const'] \n",
    "djia.plot(x='DJIA', y='global_temp_anomaly', kind = 'scatter')\n",
    "plt.plot(xs, ys, linewidth=4, color = 'orange')\n",
    "ax = plt.gca()\n",
    "ax.set_ylabel(r\"Mean Global Temp Anomaly ($^\\circ C$))\", fontsize=16)\n",
    "ax.set_xlabel(r\"Dow Jones Industrial Average (\\$)\", fontsize=16)\n",
    "#plt.xscale(\"log\")\n",
    "plt.yticks(fontsize=18)\n",
    "plt.xticks(fontsize=12)\n",
    "plt.show()"
   ]
  },
  {
   "cell_type": "markdown",
   "metadata": {},
   "source": [
    "<font color = green> __Correlation vs. causation:__"
   ]
  },
  {
   "cell_type": "markdown",
   "metadata": {},
   "source": [
    "### p-values and statistical significance"
   ]
  },
  {
   "cell_type": "markdown",
   "metadata": {},
   "source": [
    "<font color = green> __Statistical significance:__"
   ]
  },
  {
   "cell_type": "markdown",
   "metadata": {},
   "source": [
    "<font color = green> __Null hypothesis:__"
   ]
  },
  {
   "cell_type": "markdown",
   "metadata": {},
   "source": [
    "<font color = green> __p-value:__"
   ]
  },
  {
   "cell_type": "markdown",
   "metadata": {},
   "source": [
    "<font color = green> __Statistic:__"
   ]
  },
  {
   "cell_type": "markdown",
   "metadata": {},
   "source": [
    "<font color = green> __Test statistic:__"
   ]
  },
  {
   "cell_type": "markdown",
   "metadata": {},
   "source": [
    "<font color = green> __Analysis of variance:__\n",
    "\n",
    "<font color = black>\n",
    "ANOVA $F$-statistic:\n",
    "\n",
    "$$ \\frac{\\mathrm{MSE_{pred}}}{\\mathrm{MSE_{res}}} $$"
   ]
  },
  {
   "cell_type": "code",
   "execution_count": null,
   "metadata": {},
   "outputs": [],
   "source": [
    "# Calculate the F-statistic by hand\n",
    "results.mse_model / results.mse_resid"
   ]
  },
  {
   "cell_type": "markdown",
   "metadata": {},
   "source": [
    "### Nonlinear least squares"
   ]
  },
  {
   "cell_type": "code",
   "execution_count": null,
   "metadata": {},
   "outputs": [],
   "source": [
    "df = pd.read_csv('data_79_17.csv', index_col=0)\n",
    "df.head()\n",
    "short_stack = pd.concat((df.loc[yr, :] for yr in range(1979, 1981)))\n",
    "shortdf = pd.DataFrame(short_stack.values, columns=['Extent'], index=np.arange(len(short_stack.values)))\n",
    "long_stack = pd.concat((df.loc[yr, :] for yr in range(1979, 1999)))\n",
    "longdf = pd.DataFrame(long_stack.values, columns=['Extent'], index=np.arange(len(long_stack.values)))\n",
    "shortdf.plot(marker = '.')"
   ]
  },
  {
   "cell_type": "code",
   "execution_count": null,
   "metadata": {},
   "outputs": [],
   "source": [
    "shortdf.head(6)"
   ]
  },
  {
   "cell_type": "code",
   "execution_count": null,
   "metadata": {
    "scrolled": true
   },
   "outputs": [],
   "source": [
    "# Try a polynomial:\n",
    "X = np.column_stack([shortdf.index.values ** i for i in range(3)]) # Fill in the range here to pick the degree\n",
    "model = sm.OLS(shortdf['Extent'], X)\n",
    "results = model.fit()\n",
    "results.summary()"
   ]
  },
  {
   "cell_type": "code",
   "execution_count": null,
   "metadata": {},
   "outputs": [],
   "source": [
    "xs = shortdf.index.values\n",
    "ys = results.params['const'] \\\n",
    "    + results.params['x1'] * xs \\\n",
    "    + results.params['x2'] * xs ** 2 \\\n",
    "    # + results.params['x3'] * xs ** 3 \\\n",
    "    # + results.params['x4'] * xs ** 4 \\\n",
    "    # + results.params['x5'] * xs ** 5 \n",
    "    # + results.params['x6'] * xs ** 6 \n",
    "    \n",
    "shortdf.plot(marker = '.')\n",
    "plt.plot(xs, ys, color='orange')"
   ]
  },
  {
   "cell_type": "code",
   "execution_count": null,
   "metadata": {},
   "outputs": [],
   "source": [
    "results.mse_resid**0.5"
   ]
  },
  {
   "cell_type": "markdown",
   "metadata": {},
   "source": [
    "How does this work? OLS used the data matrix\n",
    "\n",
    "$$ \\left( \\begin{array}{cc} 1 & x_0 \\\\ 1 & x_1 \\\\ \\vdots & \\vdots \\\\ 1 & x_{N-1} \\end{array} \\right) $$\n",
    "\n",
    "to fit the model\n",
    "\n",
    "$$ \\hat y = b_0 + b_1 x $$\n",
    "\n",
    "To augment this to a quadratic model, we augment the data matrix to \n",
    "\n",
    "$$ \\left( \\begin{array}{ccc} 1 & x_0 & x_0^2 \\\\ 1 & x_1 & x_1^2 \\\\ \\vdots & \\vdots & \\vdots \\\\ 1 & x_{N-1} & x_{N-1}^2 \\end{array} \\right) $$\n",
    "\n",
    "which results in the fit\n",
    "\n",
    "$$ \\hat y = b_0 + b_1 x + b_2 x^2$$\n",
    "\n",
    "We're treating $x^2$ as if it were just another variable. In theory we could do this with any function of $x$ we could calculate, fitting a model like\n",
    "\n",
    "$$ \\hat y = b_0 + b_f f(x) + b_g g(x) + \\ldots $$\n",
    "\n",
    "with the data matrix\n",
    "\n",
    "$$ \\left( \\begin{array}{cccc} 1 & f(x_0) & g(x_0) & \\ldots \\\\ 1 & f(x_1) & g(x_1) & \\ldots \\\\ \\vdots & \\vdots & \\vdots & \\\\ 1 & f(x_{N-1}) & g(x_{N-1}) & \\ldots \\end{array} \\right) $$\n",
    "\n",
    "as long as the parameters $b_i$ are just coefficients multiplying \"features\" that we constructed ourselves. In the context of OLS you mostly see this done with polynomials (or logs), but some other ML techniques use a similar idea with wilder functions."
   ]
  },
  {
   "cell_type": "markdown",
   "metadata": {},
   "source": [
    "## <font color = blue> Exercises"
   ]
  },
  {
   "cell_type": "code",
   "execution_count": null,
   "metadata": {},
   "outputs": [],
   "source": [
    "yields = pd.read_csv('yield.csv')"
   ]
  },
  {
   "cell_type": "markdown",
   "metadata": {},
   "source": [
    "### Exercise 1\n",
    "\n",
    "Make a scatterplot of `Yield` vs. `Temp` from the `yields` data frame. Does it look like a linear regression will fit well?"
   ]
  },
  {
   "cell_type": "markdown",
   "metadata": {},
   "source": [
    "### Exercise 2\n",
    "\n",
    "Use the technique above to fit the following kinds of models:\n",
    "* linear\n",
    "* quadratic\n",
    "* cubic\n",
    "\n",
    "Which model has the highest $R^2$? Lowest RMSE?"
   ]
  },
  {
   "cell_type": "markdown",
   "metadata": {},
   "source": [
    "## Arbitrary function fitting"
   ]
  },
  {
   "cell_type": "code",
   "execution_count": null,
   "metadata": {},
   "outputs": [],
   "source": [
    "from scipy.optimize import curve_fit"
   ]
  },
  {
   "cell_type": "code",
   "execution_count": null,
   "metadata": {},
   "outputs": [],
   "source": [
    "# this is the function that we will be fitting to our points. \n",
    "# a, freq, phi, and c are the parameters that we will vary until we get the best fit.\n",
    "def func(x, a, freq, phi, c):\n",
    "    return a*np.sin(freq * (x - phi)) + c"
   ]
  },
  {
   "cell_type": "code",
   "execution_count": null,
   "metadata": {},
   "outputs": [],
   "source": [
    "popt, pcov = curve_fit(func, shortdf.index, shortdf['Extent']) # popt = parameters optimized, pcov = covariance matrix -- we don't need this\n",
    "rmse = (sum((func(x, *popt) - shortdf['Extent'][x])**2 for x in shortdf.index) / (len(shortdf.index - 4)))**0.5\n",
    "rmse"
   ]
  },
  {
   "cell_type": "code",
   "execution_count": null,
   "metadata": {},
   "outputs": [],
   "source": [
    "xs = shortdf.index.values\n",
    "ys = func(shortdf.index.values, *popt)\n",
    "shortdf.plot(marker = '.')\n",
    "plt.plot(xs, ys, color='orange')"
   ]
  },
  {
   "cell_type": "code",
   "execution_count": null,
   "metadata": {},
   "outputs": [],
   "source": [
    "popt"
   ]
  },
  {
   "cell_type": "code",
   "execution_count": null,
   "metadata": {},
   "outputs": [],
   "source": [
    "popt, pcov = curve_fit(func, longdf.index, longdf['Extent'], p0 = [4, 1/60, 0, 12, 0]) # p0: starting guess\n",
    "rmse = (sum((func(x, *popt) - longdf['Extent'][x])**2 for x in longdf.index) / (len(longdf.index) - 4))**0.5\n",
    "rmse"
   ]
  },
  {
   "cell_type": "code",
   "execution_count": null,
   "metadata": {},
   "outputs": [],
   "source": [
    "xs = shortdf.index.values\n",
    "ys = func(shortdf.index.values, *popt)\n",
    "shortdf.plot(marker = '.')\n",
    "plt.plot(xs, ys, color='orange')"
   ]
  },
  {
   "cell_type": "code",
   "execution_count": null,
   "metadata": {},
   "outputs": [],
   "source": [
    "popt"
   ]
  },
  {
   "cell_type": "code",
   "execution_count": null,
   "metadata": {},
   "outputs": [],
   "source": [
    "xs = longdf.index.values\n",
    "ys = func(longdf.index.values, *popt)\n",
    "longdf.plot(marker = '.')\n",
    "plt.plot(xs, ys, color='orange')"
   ]
  },
  {
   "cell_type": "markdown",
   "metadata": {},
   "source": [
    "<font color = green> __How could we make this better?__"
   ]
  }
 ],
 "metadata": {
  "@webio": {
   "lastCommId": null,
   "lastKernelId": null
  },
  "kernelspec": {
   "display_name": "Python 3",
   "language": "python",
   "name": "python3"
  },
  "language_info": {
   "codemirror_mode": {
    "name": "ipython",
    "version": 3
   },
   "file_extension": ".py",
   "mimetype": "text/x-python",
   "name": "python",
   "nbconvert_exporter": "python",
   "pygments_lexer": "ipython3",
   "version": "3.8.5"
  }
 },
 "nbformat": 4,
 "nbformat_minor": 4
}
