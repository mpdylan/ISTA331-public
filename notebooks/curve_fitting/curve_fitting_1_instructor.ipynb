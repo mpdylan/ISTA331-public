{
 "cells": [
  {
   "cell_type": "markdown",
   "metadata": {},
   "source": [
    "# Curve Fitting 1"
   ]
  },
  {
   "cell_type": "code",
   "execution_count": 2,
   "metadata": {},
   "outputs": [
    {
     "ename": "ModuleNotFoundError",
     "evalue": "No module named 'statsmodels'",
     "output_type": "error",
     "traceback": [
      "\u001b[0;31m---------------------------------------------------------------------------\u001b[0m",
      "\u001b[0;31mModuleNotFoundError\u001b[0m                       Traceback (most recent call last)",
      "\u001b[0;32m<ipython-input-2-62fc0c90cf48>\u001b[0m in \u001b[0;36m<module>\u001b[0;34m\u001b[0m\n\u001b[1;32m      1\u001b[0m \u001b[0;32mimport\u001b[0m \u001b[0mpandas\u001b[0m \u001b[0;32mas\u001b[0m \u001b[0mpd\u001b[0m\u001b[0;34m,\u001b[0m \u001b[0mnumpy\u001b[0m \u001b[0;32mas\u001b[0m \u001b[0mnp\u001b[0m\u001b[0;34m\u001b[0m\u001b[0;34m\u001b[0m\u001b[0m\n\u001b[1;32m      2\u001b[0m \u001b[0;32mimport\u001b[0m \u001b[0mmatplotlib\u001b[0m\u001b[0;34m.\u001b[0m\u001b[0mpyplot\u001b[0m \u001b[0;32mas\u001b[0m \u001b[0mplt\u001b[0m\u001b[0;34m\u001b[0m\u001b[0;34m\u001b[0m\u001b[0m\n\u001b[0;32m----> 3\u001b[0;31m \u001b[0;32mimport\u001b[0m \u001b[0mstatsmodels\u001b[0m\u001b[0;34m.\u001b[0m\u001b[0mapi\u001b[0m \u001b[0;32mas\u001b[0m \u001b[0msm\u001b[0m\u001b[0;34m\u001b[0m\u001b[0;34m\u001b[0m\u001b[0m\n\u001b[0m\u001b[1;32m      4\u001b[0m \u001b[0mdf\u001b[0m \u001b[0;34m=\u001b[0m \u001b[0mpd\u001b[0m\u001b[0;34m.\u001b[0m\u001b[0mread_csv\u001b[0m\u001b[0;34m(\u001b[0m\u001b[0;34m'data_79_17.csv'\u001b[0m\u001b[0;34m,\u001b[0m \u001b[0mindex_col\u001b[0m\u001b[0;34m=\u001b[0m\u001b[0;36m0\u001b[0m\u001b[0;34m)\u001b[0m\u001b[0;34m\u001b[0m\u001b[0;34m\u001b[0m\u001b[0m\n",
      "\u001b[0;31mModuleNotFoundError\u001b[0m: No module named 'statsmodels'"
     ]
    }
   ],
   "source": [
    "import pandas as pd, numpy as np\n",
    "import matplotlib.pyplot as plt\n",
    "import statsmodels.api as sm"
   ]
  },
  {
   "cell_type": "markdown",
   "metadata": {},
   "source": [
    "### The mean as a model fitting solution\n",
    "\n"
   ]
  },
  {
   "cell_type": "code",
   "execution_count": 23,
   "metadata": {},
   "outputs": [
    {
     "data": {
      "text/plain": [
       "0    0.23\n",
       "1    0.23\n",
       "2    0.23\n",
       "3    0.23\n",
       "4    0.23\n",
       "5    0.23\n",
       "6    0.23\n",
       "7    0.23\n",
       "Name: mean2, dtype: float64"
      ]
     },
     "execution_count": 23,
     "metadata": {},
     "output_type": "execute_result"
    }
   ],
   "source": [
    "### Build some random data\n",
    "rain1 = np.array([0.24, 0.26, 0.28, 0.18, 0.21, 0.23, 0.20, 0.24])\n",
    "rain2 = np.array([0.02, 0.03, 0.06, 0.85, 0.01, 0.04, 0.80, 0.03])\n",
    "\n",
    "df = pd.DataFrame(columns = ['rain1', 'rain2'])\n",
    "df['rain1'] = rain1\n",
    "df['rain2'] = rain2\n",
    "\n",
    "df['mean1'] = df['rain1'].mean()\n",
    "df['mean2'] = df['rain2'].mean()"
   ]
  },
  {
   "cell_type": "markdown",
   "metadata": {},
   "source": [
    "How close is the mean to the data? Let's plot it:"
   ]
  },
  {
   "cell_type": "code",
   "execution_count": 12,
   "metadata": {},
   "outputs": [
    {
     "data": {
      "text/plain": [
       "<matplotlib.axes._subplots.AxesSubplot at 0x7f98cbef70d0>"
      ]
     },
     "execution_count": 12,
     "metadata": {},
     "output_type": "execute_result"
    },
    {
     "data": {
      "image/png": "[encoded data removed]",
      "text/plain": [
       "<Figure size 432x288 with 1 Axes>"
      ]
     },
     "metadata": {
      "needs_background": "light"
     },
     "output_type": "display_data"
    }
   ],
   "source": [
    "df['rain1'].plot(marker = 'o', ylim = (0, 1))\n",
    "df['mean1'].plot(linestyle = '--')"
   ]
  },
  {
   "cell_type": "code",
   "execution_count": 25,
   "metadata": {},
   "outputs": [
    {
     "data": {
      "text/plain": [
       "<matplotlib.axes._subplots.AxesSubplot at 0x7f98c82eeca0>"
      ]
     },
     "execution_count": 25,
     "metadata": {},
     "output_type": "execute_result"
    },
    {
     "data": {
      "image/png": "[encoded data removed]",
      "text/plain": [
       "<Figure size 432x288 with 1 Axes>"
      ]
     },
     "metadata": {
      "needs_background": "light"
     },
     "output_type": "display_data"
    }
   ],
   "source": [
    "df['rain2'].plot(marker = 'o')\n",
    "df['mean2'].plot(linestyle = '--')"
   ]
  },
  {
   "cell_type": "markdown",
   "metadata": {},
   "source": [
    "<font color=green> __In which case does the mean fit better?__"
   ]
  },
  {
   "cell_type": "markdown",
   "metadata": {},
   "source": [
    "<font color=green> __Standard deviation:__"
   ]
  },
  {
   "cell_type": "markdown",
   "metadata": {},
   "source": [
    "<font color=green> __Goodness of fit:__"
   ]
  },
  {
   "cell_type": "markdown",
   "metadata": {},
   "source": [
    "<font color=green> __Residual / predicted error:__"
   ]
  },
  {
   "cell_type": "code",
   "execution_count": null,
   "metadata": {},
   "outputs": [],
   "source": [
    "<font color=green> __Optimization:__"
   ]
  },
  {
   "cell_type": "markdown",
   "metadata": {},
   "source": [
    "<font color=green> __How is the mean like a model fit?__"
   ]
  },
  {
   "cell_type": "code",
   "execution_count": null,
   "metadata": {},
   "outputs": [],
   "source": [
    "def rmse(yseries, yhat):\n",
    "    return np.sqrt(1/(len(yseries) - 1) * sum((yseries[i] - yhat)**2 for i in range(len(yseries))))\n",
    "### Call it like this: rmse(df['rain1'], y); plug in a few different values for y. How small can you get it?"
   ]
  },
  {
   "cell_type": "markdown",
   "metadata": {},
   "source": [
    "After you've tried a few values above, run the code below. Did any of your values get a RMSE that small?"
   ]
  },
  {
   "cell_type": "code",
   "execution_count": null,
   "metadata": {},
   "outputs": [],
   "source": [
    "print(rmse(df['rain1'], df['rain1'].mean()))"
   ]
  },
  {
   "cell_type": "markdown",
   "metadata": {},
   "source": [
    "<font color=green> __What other \"point models\" can we fit and how?__"
   ]
  },
  {
   "cell_type": "markdown",
   "metadata": {},
   "source": [
    "<font color=green> __Point estimate:__"
   ]
  },
  {
   "cell_type": "markdown",
   "metadata": {},
   "source": [
    "### Fitting a line\n",
    "\n",
    "Example data: Arctic sea ice extent."
   ]
  },
  {
   "cell_type": "code",
   "execution_count": 92,
   "metadata": {},
   "outputs": [
    {
     "data": {
      "text/html": [
       "<div>\n",
       "<style scoped>\n",
       "    .dataframe tbody tr th:only-of-type {\n",
       "        vertical-align: middle;\n",
       "    }\n",
       "\n",
       "    .dataframe tbody tr th {\n",
       "        vertical-align: top;\n",
       "    }\n",
       "\n",
       "    .dataframe thead th {\n",
       "        text-align: right;\n",
       "    }\n",
       "</style>\n",
       "<table border=\"1\" class=\"dataframe\">\n",
       "  <thead>\n",
       "    <tr style=\"text-align: right;\">\n",
       "      <th></th>\n",
       "      <th>0101</th>\n",
       "      <th>0102</th>\n",
       "      <th>0103</th>\n",
       "      <th>0104</th>\n",
       "      <th>0105</th>\n",
       "      <th>0106</th>\n",
       "      <th>0107</th>\n",
       "      <th>0108</th>\n",
       "      <th>0109</th>\n",
       "      <th>0110</th>\n",
       "      <th>...</th>\n",
       "      <th>1222</th>\n",
       "      <th>1223</th>\n",
       "      <th>1224</th>\n",
       "      <th>1225</th>\n",
       "      <th>1226</th>\n",
       "      <th>1227</th>\n",
       "      <th>1228</th>\n",
       "      <th>1229</th>\n",
       "      <th>1230</th>\n",
       "      <th>1231</th>\n",
       "    </tr>\n",
       "  </thead>\n",
       "  <tbody>\n",
       "    <tr>\n",
       "      <th>1979</th>\n",
       "      <td>14.7910</td>\n",
       "      <td>14.9970</td>\n",
       "      <td>14.9595</td>\n",
       "      <td>14.9220</td>\n",
       "      <td>14.9255</td>\n",
       "      <td>14.9290</td>\n",
       "      <td>14.9485</td>\n",
       "      <td>14.968</td>\n",
       "      <td>15.0790</td>\n",
       "      <td>15.1900</td>\n",
       "      <td>...</td>\n",
       "      <td>13.6190</td>\n",
       "      <td>13.6960</td>\n",
       "      <td>13.7730</td>\n",
       "      <td>13.8535</td>\n",
       "      <td>13.9340</td>\n",
       "      <td>14.0175</td>\n",
       "      <td>14.1010</td>\n",
       "      <td>14.0965</td>\n",
       "      <td>14.092</td>\n",
       "      <td>14.1460</td>\n",
       "    </tr>\n",
       "    <tr>\n",
       "      <th>1980</th>\n",
       "      <td>14.2000</td>\n",
       "      <td>14.2510</td>\n",
       "      <td>14.3020</td>\n",
       "      <td>14.3580</td>\n",
       "      <td>14.4140</td>\n",
       "      <td>14.4660</td>\n",
       "      <td>14.5180</td>\n",
       "      <td>14.556</td>\n",
       "      <td>14.5940</td>\n",
       "      <td>14.6295</td>\n",
       "      <td>...</td>\n",
       "      <td>13.7790</td>\n",
       "      <td>13.7885</td>\n",
       "      <td>13.7980</td>\n",
       "      <td>13.8990</td>\n",
       "      <td>14.0000</td>\n",
       "      <td>14.0860</td>\n",
       "      <td>14.1720</td>\n",
       "      <td>14.1325</td>\n",
       "      <td>14.093</td>\n",
       "      <td>14.1745</td>\n",
       "    </tr>\n",
       "    <tr>\n",
       "      <th>1981</th>\n",
       "      <td>14.2560</td>\n",
       "      <td>14.3560</td>\n",
       "      <td>14.4560</td>\n",
       "      <td>14.4455</td>\n",
       "      <td>14.4350</td>\n",
       "      <td>14.5620</td>\n",
       "      <td>14.6890</td>\n",
       "      <td>14.654</td>\n",
       "      <td>14.6190</td>\n",
       "      <td>14.6545</td>\n",
       "      <td>...</td>\n",
       "      <td>13.8850</td>\n",
       "      <td>13.8770</td>\n",
       "      <td>13.9465</td>\n",
       "      <td>14.0160</td>\n",
       "      <td>13.9845</td>\n",
       "      <td>13.9530</td>\n",
       "      <td>14.0405</td>\n",
       "      <td>14.1280</td>\n",
       "      <td>14.176</td>\n",
       "      <td>14.2240</td>\n",
       "    </tr>\n",
       "    <tr>\n",
       "      <th>1982</th>\n",
       "      <td>14.3515</td>\n",
       "      <td>14.4790</td>\n",
       "      <td>14.5605</td>\n",
       "      <td>14.6420</td>\n",
       "      <td>14.7610</td>\n",
       "      <td>14.8800</td>\n",
       "      <td>14.9365</td>\n",
       "      <td>14.993</td>\n",
       "      <td>15.0225</td>\n",
       "      <td>15.0520</td>\n",
       "      <td>...</td>\n",
       "      <td>13.9630</td>\n",
       "      <td>14.0280</td>\n",
       "      <td>14.0930</td>\n",
       "      <td>14.1380</td>\n",
       "      <td>14.1830</td>\n",
       "      <td>14.1635</td>\n",
       "      <td>14.1440</td>\n",
       "      <td>14.1515</td>\n",
       "      <td>14.159</td>\n",
       "      <td>14.2060</td>\n",
       "    </tr>\n",
       "    <tr>\n",
       "      <th>1983</th>\n",
       "      <td>14.2530</td>\n",
       "      <td>14.2795</td>\n",
       "      <td>14.3060</td>\n",
       "      <td>14.4000</td>\n",
       "      <td>14.4940</td>\n",
       "      <td>14.4805</td>\n",
       "      <td>14.4670</td>\n",
       "      <td>14.541</td>\n",
       "      <td>14.6150</td>\n",
       "      <td>14.6315</td>\n",
       "      <td>...</td>\n",
       "      <td>13.4325</td>\n",
       "      <td>13.5390</td>\n",
       "      <td>13.5395</td>\n",
       "      <td>13.5400</td>\n",
       "      <td>13.6020</td>\n",
       "      <td>13.6640</td>\n",
       "      <td>13.7595</td>\n",
       "      <td>13.8550</td>\n",
       "      <td>13.881</td>\n",
       "      <td>13.9070</td>\n",
       "    </tr>\n",
       "  </tbody>\n",
       "</table>\n",
       "<p>5 rows × 365 columns</p>\n",
       "</div>"
      ],
      "text/plain": [
       "         0101     0102     0103     0104     0105     0106     0107    0108  \\\n",
       "1979  14.7910  14.9970  14.9595  14.9220  14.9255  14.9290  14.9485  14.968   \n",
       "1980  14.2000  14.2510  14.3020  14.3580  14.4140  14.4660  14.5180  14.556   \n",
       "1981  14.2560  14.3560  14.4560  14.4455  14.4350  14.5620  14.6890  14.654   \n",
       "1982  14.3515  14.4790  14.5605  14.6420  14.7610  14.8800  14.9365  14.993   \n",
       "1983  14.2530  14.2795  14.3060  14.4000  14.4940  14.4805  14.4670  14.541   \n",
       "\n",
       "         0109     0110  ...     1222     1223     1224     1225     1226  \\\n",
       "1979  15.0790  15.1900  ...  13.6190  13.6960  13.7730  13.8535  13.9340   \n",
       "1980  14.5940  14.6295  ...  13.7790  13.7885  13.7980  13.8990  14.0000   \n",
       "1981  14.6190  14.6545  ...  13.8850  13.8770  13.9465  14.0160  13.9845   \n",
       "1982  15.0225  15.0520  ...  13.9630  14.0280  14.0930  14.1380  14.1830   \n",
       "1983  14.6150  14.6315  ...  13.4325  13.5390  13.5395  13.5400  13.6020   \n",
       "\n",
       "         1227     1228     1229    1230     1231  \n",
       "1979  14.0175  14.1010  14.0965  14.092  14.1460  \n",
       "1980  14.0860  14.1720  14.1325  14.093  14.1745  \n",
       "1981  13.9530  14.0405  14.1280  14.176  14.2240  \n",
       "1982  14.1635  14.1440  14.1515  14.159  14.2060  \n",
       "1983  13.6640  13.7595  13.8550  13.881  13.9070  \n",
       "\n",
       "[5 rows x 365 columns]"
      ]
     },
     "execution_count": 92,
     "metadata": {},
     "output_type": "execute_result"
    }
   ],
   "source": [
    "df = pd.read_csv('data_79_17.csv', index_col=0)\n",
    "df.head()"
   ]
  },
  {
   "cell_type": "code",
   "execution_count": 93,
   "metadata": {
    "scrolled": true
   },
   "outputs": [
    {
     "data": {
      "text/html": [
       "<div>\n",
       "<style scoped>\n",
       "    .dataframe tbody tr th:only-of-type {\n",
       "        vertical-align: middle;\n",
       "    }\n",
       "\n",
       "    .dataframe tbody tr th {\n",
       "        vertical-align: top;\n",
       "    }\n",
       "\n",
       "    .dataframe thead th {\n",
       "        text-align: right;\n",
       "    }\n",
       "</style>\n",
       "<table border=\"1\" class=\"dataframe\">\n",
       "  <thead>\n",
       "    <tr style=\"text-align: right;\">\n",
       "      <th></th>\n",
       "      <th>1230</th>\n",
       "      <th>1231</th>\n",
       "      <th>mean</th>\n",
       "    </tr>\n",
       "  </thead>\n",
       "  <tbody>\n",
       "    <tr>\n",
       "      <th>1979</th>\n",
       "      <td>14.092</td>\n",
       "      <td>14.1460</td>\n",
       "      <td>12.325240</td>\n",
       "    </tr>\n",
       "    <tr>\n",
       "      <th>1980</th>\n",
       "      <td>14.093</td>\n",
       "      <td>14.1745</td>\n",
       "      <td>12.323664</td>\n",
       "    </tr>\n",
       "    <tr>\n",
       "      <th>1981</th>\n",
       "      <td>14.176</td>\n",
       "      <td>14.2240</td>\n",
       "      <td>12.129721</td>\n",
       "    </tr>\n",
       "    <tr>\n",
       "      <th>1982</th>\n",
       "      <td>14.159</td>\n",
       "      <td>14.2060</td>\n",
       "      <td>12.444374</td>\n",
       "    </tr>\n",
       "    <tr>\n",
       "      <th>1983</th>\n",
       "      <td>13.881</td>\n",
       "      <td>13.9070</td>\n",
       "      <td>12.331118</td>\n",
       "    </tr>\n",
       "  </tbody>\n",
       "</table>\n",
       "</div>"
      ],
      "text/plain": [
       "        1230     1231       mean\n",
       "1979  14.092  14.1460  12.325240\n",
       "1980  14.093  14.1745  12.323664\n",
       "1981  14.176  14.2240  12.129721\n",
       "1982  14.159  14.2060  12.444374\n",
       "1983  13.881  13.9070  12.331118"
      ]
     },
     "execution_count": 93,
     "metadata": {},
     "output_type": "execute_result"
    }
   ],
   "source": [
    "# What are the values? Per-date average sea ice extent for each year from 1979 to 2017.\n",
    "# To get annual averages, we calculate a mean along the rows:\n",
    "df['mean'] = df.mean(axis=1)\n",
    "df.head(5).iloc[:, -3:]"
   ]
  },
  {
   "cell_type": "code",
   "execution_count": 95,
   "metadata": {},
   "outputs": [
    {
     "data": {
      "text/plain": [
       "<matplotlib.legend.Legend at 0x24286a88c18>"
      ]
     },
     "execution_count": 95,
     "metadata": {},
     "output_type": "execute_result"
    },
    {
     "data": {
      "image/png": "[encoded data removed]",
      "text/plain": [
       "<Figure size 432x288 with 1 Axes>"
      ]
     },
     "metadata": {
      "needs_background": "light"
     },
     "output_type": "display_data"
    }
   ],
   "source": [
    "# Plot the annual average over time\n",
    "df['mean'].plot(marker='o', label='Extent', rot=30)\n",
    "ax = plt.gca()\n",
    "ax.set_ylabel(r\"NH Sea Ice Extent ($10^6$ km$^2$)\", fontsize=24)\n",
    "plt.yticks(fontsize=18)\n",
    "plt.xticks(fontsize=18)\n",
    "ax.legend()"
   ]
  },
  {
   "cell_type": "code",
   "execution_count": 96,
   "metadata": {},
   "outputs": [
    {
     "data": {
      "text/html": [
       "<div>\n",
       "<style scoped>\n",
       "    .dataframe tbody tr th:only-of-type {\n",
       "        vertical-align: middle;\n",
       "    }\n",
       "\n",
       "    .dataframe tbody tr th {\n",
       "        vertical-align: top;\n",
       "    }\n",
       "\n",
       "    .dataframe thead th {\n",
       "        text-align: right;\n",
       "    }\n",
       "</style>\n",
       "<table border=\"1\" class=\"dataframe\">\n",
       "  <thead>\n",
       "    <tr style=\"text-align: right;\">\n",
       "      <th></th>\n",
       "      <th>1231</th>\n",
       "      <th>mean</th>\n",
       "      <th>overall mean</th>\n",
       "    </tr>\n",
       "  </thead>\n",
       "  <tbody>\n",
       "    <tr>\n",
       "      <th>1979</th>\n",
       "      <td>14.1460</td>\n",
       "      <td>12.325240</td>\n",
       "      <td>11.471642</td>\n",
       "    </tr>\n",
       "    <tr>\n",
       "      <th>1980</th>\n",
       "      <td>14.1745</td>\n",
       "      <td>12.323664</td>\n",
       "      <td>11.471642</td>\n",
       "    </tr>\n",
       "    <tr>\n",
       "      <th>1981</th>\n",
       "      <td>14.2240</td>\n",
       "      <td>12.129721</td>\n",
       "      <td>11.471642</td>\n",
       "    </tr>\n",
       "    <tr>\n",
       "      <th>1982</th>\n",
       "      <td>14.2060</td>\n",
       "      <td>12.444374</td>\n",
       "      <td>11.471642</td>\n",
       "    </tr>\n",
       "    <tr>\n",
       "      <th>1983</th>\n",
       "      <td>13.9070</td>\n",
       "      <td>12.331118</td>\n",
       "      <td>11.471642</td>\n",
       "    </tr>\n",
       "  </tbody>\n",
       "</table>\n",
       "</div>"
      ],
      "text/plain": [
       "         1231       mean  overall mean\n",
       "1979  14.1460  12.325240     11.471642\n",
       "1980  14.1745  12.323664     11.471642\n",
       "1981  14.2240  12.129721     11.471642\n",
       "1982  14.2060  12.444374     11.471642\n",
       "1983  13.9070  12.331118     11.471642"
      ]
     },
     "execution_count": 96,
     "metadata": {},
     "output_type": "execute_result"
    }
   ],
   "source": [
    "# Let's calculate the overall mean: the mean of all the means\n",
    "df['overall mean'] = df['mean'].mean()\n",
    "df.head(5).iloc[:, -3:]"
   ]
  },
  {
   "cell_type": "code",
   "execution_count": 97,
   "metadata": {},
   "outputs": [
    {
     "data": {
      "text/plain": [
       "<matplotlib.legend.Legend at 0x24286af02e8>"
      ]
     },
     "execution_count": 97,
     "metadata": {},
     "output_type": "execute_result"
    },
    {
     "data": {
      "image/png": "[encoded data removed]",
      "text/plain": [
       "<Figure size 432x288 with 1 Axes>"
      ]
     },
     "metadata": {
      "needs_background": "light"
     },
     "output_type": "display_data"
    }
   ],
   "source": [
    "df['overall mean'].plot(linestyle='--', label='Overall Mean')\n",
    "df['mean'].plot(marker='o', label='Extent', rot=30)\n",
    "ax = plt.gca()\n",
    "ax.set_ylabel(r\"NH Sea Ice Extent ($10^6$ km$^2$)\", fontsize=24)\n",
    "plt.yticks(fontsize=18)\n",
    "plt.xticks(fontsize=18)\n",
    "ax.legend()"
   ]
  },
  {
   "cell_type": "code",
   "execution_count": 98,
   "metadata": {},
   "outputs": [
    {
     "data": {
      "text/plain": [
       "const    121.754934\n",
       "x1        -0.055197\n",
       "dtype: float64"
      ]
     },
     "execution_count": 98,
     "metadata": {},
     "output_type": "execute_result"
    }
   ],
   "source": [
    "years_array = sm.add_constant(df.index.values)\n",
    "model = sm.OLS(df['mean'], years_array)\n",
    "results = model.fit()\n",
    "results.params"
   ]
  },
  {
   "cell_type": "code",
   "execution_count": 99,
   "metadata": {},
   "outputs": [
    {
     "data": {
      "text/plain": [
       "array([[1.000e+00, 1.979e+03],\n",
       "       [1.000e+00, 1.980e+03],\n",
       "       [1.000e+00, 1.981e+03],\n",
       "       [1.000e+00, 1.982e+03],\n",
       "       [1.000e+00, 1.983e+03]])"
      ]
     },
     "execution_count": 99,
     "metadata": {},
     "output_type": "execute_result"
    }
   ],
   "source": [
    "years_array[:5]"
   ]
  },
  {
   "cell_type": "code",
   "execution_count": 102,
   "metadata": {},
   "outputs": [
    {
     "data": {
      "text/plain": [
       "<matplotlib.legend.Legend at 0x24286c584a8>"
      ]
     },
     "execution_count": 102,
     "metadata": {},
     "output_type": "execute_result"
    },
    {
     "data": {
      "image/png": "[encoded data removed]",
      "text/plain": [
       "<Figure size 432x288 with 1 Axes>"
      ]
     },
     "metadata": {
      "needs_background": "light"
     },
     "output_type": "display_data"
    }
   ],
   "source": [
    "xs = np.arange(1979, 2018)\n",
    "ys = results.params['x1'] * xs + results.params['const']\n",
    "plt.plot(xs, ys, linewidth=4)\n",
    "df['overall mean'].plot(linestyle='--', label='Overall Mean')\n",
    "ax = df['mean'].plot(linestyle='', marker='o', label='Extent', rot=30)\n",
    "ax.set_ylabel(r\"NH Sea Ice Extent ($10^6$ km$^2$)\", fontsize=24)\n",
    "plt.yticks(fontsize=18)\n",
    "plt.xticks(fontsize=18)\n",
    "ax.legend()"
   ]
  },
  {
   "cell_type": "code",
   "execution_count": 103,
   "metadata": {},
   "outputs": [
    {
     "data": {
      "text/plain": [
       "'out of ice in: 2205'"
      ]
     },
     "execution_count": 103,
     "metadata": {},
     "output_type": "execute_result"
    }
   ],
   "source": [
    "\"out of ice in: \" + repr(int(-results.params['const'] / results.params['x1']))"
   ]
  },
  {
   "cell_type": "markdown",
   "metadata": {},
   "source": [
    "### Comparing the two models"
   ]
  },
  {
   "cell_type": "code",
   "execution_count": 104,
   "metadata": {
    "scrolled": true
   },
   "outputs": [
    {
     "data": {
      "text/plain": [
       "<matplotlib.legend.Legend at 0x242851a1b38>"
      ]
     },
     "execution_count": 104,
     "metadata": {},
     "output_type": "execute_result"
    },
    {
     "data": {
      "image/png": "[encoded data removed]",
      "text/plain": [
       "<Figure size 432x288 with 1 Axes>"
      ]
     },
     "metadata": {
      "needs_background": "light"
     },
     "output_type": "display_data"
    }
   ],
   "source": [
    "df['overall mean'].plot(linestyle='--', label='Overall Mean')\n",
    "df['mean'].plot(marker='o', label='Extent', rot=30)\n",
    "overall_mean = df['overall mean'].iloc[0]\n",
    "plt.plot(xs, ys, linewidth=4)\n",
    "df['overall mean'].plot(linestyle='--', label='Overall Mean')\n",
    "ax = df['mean'].plot(linestyle='', marker='o', label='Extent', rot=30)\n",
    "sse_mean = 0\n",
    "for x in df.index:\n",
    "    plt.plot([x, x], [df.loc[x, 'mean'], overall_mean])\n",
    "    sse_mean += (df.loc[x, 'mean'] - overall_mean)**2\n",
    "ax = plt.gca()\n",
    "ax.set_ylabel(r\"NH Sea Ice Extent ($10^6$ km$^2$)\", fontsize=24)\n",
    "plt.yticks(fontsize=18)\n",
    "plt.xticks(fontsize=18)\n",
    "ax.legend()"
   ]
  },
  {
   "cell_type": "code",
   "execution_count": 110,
   "metadata": {},
   "outputs": [
    {
     "data": {
      "text/plain": [
       "<matplotlib.legend.Legend at 0x24286d050f0>"
      ]
     },
     "execution_count": 110,
     "metadata": {},
     "output_type": "execute_result"
    },
    {
     "data": {
      "image/png": "[encoded data removed]",
      "text/plain": [
       "<Figure size 432x288 with 1 Axes>"
      ]
     },
     "metadata": {
      "needs_background": "light"
     },
     "output_type": "display_data"
    }
   ],
   "source": [
    "plt.plot(xs, ys, linewidth=4)\n",
    "sse_line = 0\n",
    "plt.plot(xs, ys, linewidth=4)\n",
    "ax = df['mean'].plot(linestyle='', marker='o', label='Extent', rot=30)\n",
    "sse_line = 0\n",
    "for i in range(len(xs)):\n",
    "    plt.plot([xs[i], xs[i]], [df.loc[xs[i], 'mean'], ys[i]])\n",
    "    sse_line += (df.loc[xs[i], 'mean'] - ys[i])**2\n",
    "df['mean'].plot(linestyle='', marker='o', label='Extent', rot=30)\n",
    "ax.set_ylabel(r\"NH Sea Ice Extent ($10^6$ km$^2$)\", fontsize=24)\n",
    "plt.yticks(fontsize=18)\n",
    "plt.xticks(fontsize=18)\n",
    "ax.legend()"
   ]
  },
  {
   "cell_type": "code",
   "execution_count": 108,
   "metadata": {},
   "outputs": [
    {
     "data": {
      "text/plain": [
       "16.885649511435062"
      ]
     },
     "execution_count": 108,
     "metadata": {},
     "output_type": "execute_result"
    }
   ],
   "source": [
    "# Sum of squared residuals for our point estimate\n",
    "sse_mean"
   ]
  },
  {
   "cell_type": "code",
   "execution_count": 111,
   "metadata": {},
   "outputs": [
    {
     "data": {
      "text/plain": [
       "1.8349937997234653"
      ]
     },
     "execution_count": 111,
     "metadata": {},
     "output_type": "execute_result"
    }
   ],
   "source": [
    "# Sum of squared residuals for our linear model\n",
    "sse_line"
   ]
  },
  {
   "cell_type": "code",
   "execution_count": 112,
   "metadata": {},
   "outputs": [
    {
     "data": {
      "text/html": [
       "<table class=\"simpletable\">\n",
       "<caption>OLS Regression Results</caption>\n",
       "<tr>\n",
       "  <th>Dep. Variable:</th>          <td>mean</td>       <th>  R-squared:         </th> <td>   0.891</td>\n",
       "</tr>\n",
       "<tr>\n",
       "  <th>Model:</th>                   <td>OLS</td>       <th>  Adj. R-squared:    </th> <td>   0.888</td>\n",
       "</tr>\n",
       "<tr>\n",
       "  <th>Method:</th>             <td>Least Squares</td>  <th>  F-statistic:       </th> <td>   303.5</td>\n",
       "</tr>\n",
       "<tr>\n",
       "  <th>Date:</th>             <td>Thu, 26 Sep 2019</td> <th>  Prob (F-statistic):</th> <td>2.03e-19</td>\n",
       "</tr>\n",
       "<tr>\n",
       "  <th>Time:</th>                 <td>12:05:12</td>     <th>  Log-Likelihood:    </th> <td>  4.2635</td>\n",
       "</tr>\n",
       "<tr>\n",
       "  <th>No. Observations:</th>      <td>    39</td>      <th>  AIC:               </th> <td>  -4.527</td>\n",
       "</tr>\n",
       "<tr>\n",
       "  <th>Df Residuals:</th>          <td>    37</td>      <th>  BIC:               </th> <td>  -1.200</td>\n",
       "</tr>\n",
       "<tr>\n",
       "  <th>Df Model:</th>              <td>     1</td>      <th>                     </th>     <td> </td>   \n",
       "</tr>\n",
       "<tr>\n",
       "  <th>Covariance Type:</th>      <td>nonrobust</td>    <th>                     </th>     <td> </td>   \n",
       "</tr>\n",
       "</table>\n",
       "<table class=\"simpletable\">\n",
       "<tr>\n",
       "    <td></td>       <th>coef</th>     <th>std err</th>      <th>t</th>      <th>P>|t|</th>  <th>[0.025</th>    <th>0.975]</th>  \n",
       "</tr>\n",
       "<tr>\n",
       "  <th>const</th> <td>  121.7549</td> <td>    6.331</td> <td>   19.232</td> <td> 0.000</td> <td>  108.928</td> <td>  134.582</td>\n",
       "</tr>\n",
       "<tr>\n",
       "  <th>x1</th>    <td>   -0.0552</td> <td>    0.003</td> <td>  -17.421</td> <td> 0.000</td> <td>   -0.062</td> <td>   -0.049</td>\n",
       "</tr>\n",
       "</table>\n",
       "<table class=\"simpletable\">\n",
       "<tr>\n",
       "  <th>Omnibus:</th>       <td> 4.324</td> <th>  Durbin-Watson:     </th> <td>   1.301</td>\n",
       "</tr>\n",
       "<tr>\n",
       "  <th>Prob(Omnibus):</th> <td> 0.115</td> <th>  Jarque-Bera (JB):  </th> <td>   2.322</td>\n",
       "</tr>\n",
       "<tr>\n",
       "  <th>Skew:</th>          <td>-0.343</td> <th>  Prob(JB):          </th> <td>   0.313</td>\n",
       "</tr>\n",
       "<tr>\n",
       "  <th>Kurtosis:</th>      <td> 2.021</td> <th>  Cond. No.          </th> <td>3.55e+05</td>\n",
       "</tr>\n",
       "</table><br/><br/>Warnings:<br/>[1] Standard Errors assume that the covariance matrix of the errors is correctly specified.<br/>[2] The condition number is large, 3.55e+05. This might indicate that there are<br/>strong multicollinearity or other numerical problems."
      ],
      "text/plain": [
       "<class 'statsmodels.iolib.summary.Summary'>\n",
       "\"\"\"\n",
       "                            OLS Regression Results                            \n",
       "==============================================================================\n",
       "Dep. Variable:                   mean   R-squared:                       0.891\n",
       "Model:                            OLS   Adj. R-squared:                  0.888\n",
       "Method:                 Least Squares   F-statistic:                     303.5\n",
       "Date:                Thu, 26 Sep 2019   Prob (F-statistic):           2.03e-19\n",
       "Time:                        12:05:12   Log-Likelihood:                 4.2635\n",
       "No. Observations:                  39   AIC:                            -4.527\n",
       "Df Residuals:                      37   BIC:                            -1.200\n",
       "Df Model:                           1                                         \n",
       "Covariance Type:            nonrobust                                         \n",
       "==============================================================================\n",
       "                 coef    std err          t      P>|t|      [0.025      0.975]\n",
       "------------------------------------------------------------------------------\n",
       "const        121.7549      6.331     19.232      0.000     108.928     134.582\n",
       "x1            -0.0552      0.003    -17.421      0.000      -0.062      -0.049\n",
       "==============================================================================\n",
       "Omnibus:                        4.324   Durbin-Watson:                   1.301\n",
       "Prob(Omnibus):                  0.115   Jarque-Bera (JB):                2.322\n",
       "Skew:                          -0.343   Prob(JB):                        0.313\n",
       "Kurtosis:                       2.021   Cond. No.                     3.55e+05\n",
       "==============================================================================\n",
       "\n",
       "Warnings:\n",
       "[1] Standard Errors assume that the covariance matrix of the errors is correctly specified.\n",
       "[2] The condition number is large, 3.55e+05. This might indicate that there are\n",
       "strong multicollinearity or other numerical problems.\n",
       "\"\"\""
      ]
     },
     "execution_count": 112,
     "metadata": {},
     "output_type": "execute_result"
    }
   ],
   "source": [
    "results.summary()\n"
   ]
  },
  {
   "cell_type": "markdown",
   "metadata": {},
   "source": [
    "<font color=green> __$\\hat{y}$:__"
   ]
  },
  {
   "cell_type": "code",
   "execution_count": 113,
   "metadata": {},
   "outputs": [
    {
     "name": "stdout",
     "output_type": "stream",
     "text": [
      "mse_model\n",
      "mse_resid\n",
      "mse_total\n"
     ]
    }
   ],
   "source": [
    "for attr in dir(results):\n",
    "    if 'mse' in attr.lower():\n",
    "        print(attr)"
   ]
  },
  {
   "cell_type": "code",
   "execution_count": 114,
   "metadata": {},
   "outputs": [
    {
     "data": {
      "text/plain": [
       "0.04959442701955312"
      ]
     },
     "execution_count": 114,
     "metadata": {},
     "output_type": "execute_result"
    }
   ],
   "source": [
    "results.mse_resid\n"
   ]
  },
  {
   "cell_type": "markdown",
   "metadata": {},
   "source": [
    "<font color=green> __Sum of squared error, SSE:__"
   ]
  },
  {
   "cell_type": "markdown",
   "metadata": {},
   "source": [
    "<font color=green> __Mean squared error, MSE:__"
   ]
  },
  {
   "cell_type": "markdown",
   "metadata": {},
   "source": [
    "<font color=green> __Root mean squared error, RMSE:__"
   ]
  },
  {
   "cell_type": "markdown",
   "metadata": {},
   "source": [
    "<font color=green> __Simple linear regression:__"
   ]
  },
  {
   "cell_type": "markdown",
   "metadata": {},
   "source": [
    "<font color=green> __Ordinary least squares, OLS:__"
   ]
  },
  {
   "cell_type": "markdown",
   "metadata": {},
   "source": [
    "<font color=green>__Statistic:__  "
   ]
  },
  {
   "cell_type": "markdown",
   "metadata": {},
   "source": [
    "<font color=green>__p-value:__"
   ]
  },
  {
   "cell_type": "markdown",
   "metadata": {},
   "source": [
    "<font color=green>__Null hypothesis:__"
   ]
  },
  {
   "cell_type": "markdown",
   "metadata": {},
   "source": [
    "<font color=green>__Pearson's correlation coefficient, $r$:__"
   ]
  },
  {
   "cell_type": "markdown",
   "metadata": {},
   "source": [
    "<font color=green>__Coefficient of determination, $R^2$:__"
   ]
  },
  {
   "cell_type": "markdown",
   "metadata": {},
   "source": [
    "<font color=green>__Model:__"
   ]
  },
  {
   "cell_type": "markdown",
   "metadata": {},
   "source": [
    "<font color=green> __Multiple linear regression:__"
   ]
  },
  {
   "cell_type": "markdown",
   "metadata": {},
   "source": [
    "<font color=green>__Polynomial regression:__"
   ]
  },
  {
   "cell_type": "markdown",
   "metadata": {},
   "source": [
    "### Fitting a curve using simple linear regression\n",
    "\n",
    "F"
   ]
  },
  {
   "cell_type": "code",
   "execution_count": 65,
   "metadata": {},
   "outputs": [],
   "source": [
    "from bs4 import BeautifulSoup"
   ]
  },
  {
   "cell_type": "code",
   "execution_count": 63,
   "metadata": {},
   "outputs": [],
   "source": [
    "def get_planet_frame():\n",
    "    ''' list comprehensions, enumerate '''\n",
    "    ''' transposes as it creates the lol '''\n",
    "    soup = BeautifulSoup(open('planets.html'))\n",
    "    rows = soup.table.find_all('tr')\n",
    "    # rows.pop(0) is the header with the planet names but first td is blank\n",
    "    index = [td.a.get_text().capitalize() for td in rows.pop(0).find_all('td')[1:]]\n",
    "    rows.pop() # the last row is also a header - get rid of it\n",
    "    columns = [tr.td.a.get_text() for tr in rows]\n",
    "    data = [[] for i in range(len(index))]\n",
    "    for row in rows:\n",
    "        for i, td in enumerate(row.find_all('td')[1:]):\n",
    "            data[i].append(td.get_text())\n",
    "    return pd.DataFrame(data, index, columns)"
   ]
  },
  {
   "cell_type": "markdown",
   "metadata": {},
   "source": [
    "<font color=green>__Optimization:__"
   ]
  },
  {
   "cell_type": "markdown",
   "metadata": {},
   "source": [
    "<font color=green>__Minimization:__"
   ]
  }
 ],
 "metadata": {
  "kernelspec": {
   "display_name": "Python 3",
   "language": "python",
   "name": "python3"
  },
  "language_info": {
   "codemirror_mode": {
    "name": "ipython",
    "version": 3
   },
   "file_extension": ".py",
   "mimetype": "text/x-python",
   "name": "python",
   "nbconvert_exporter": "python",
   "pygments_lexer": "ipython3",
   "version": "3.8.1"
  }
 },
 "nbformat": 4,
 "nbformat_minor": 2
}
