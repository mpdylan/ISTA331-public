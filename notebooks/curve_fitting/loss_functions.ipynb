{
 "cells": [
  {
   "cell_type": "markdown",
   "metadata": {},
   "source": [
    "# Loss functions"
   ]
  },
  {
   "cell_type": "code",
   "execution_count": 1,
   "metadata": {},
   "outputs": [],
   "source": [
    "import pandas as pd, numpy as np, matplotlib.pyplot as plt"
   ]
  },
  {
   "cell_type": "code",
   "execution_count": 2,
   "metadata": {},
   "outputs": [
    {
     "data": {
      "text/html": [
       "<div>\n",
       "<style scoped>\n",
       "    .dataframe tbody tr th:only-of-type {\n",
       "        vertical-align: middle;\n",
       "    }\n",
       "\n",
       "    .dataframe tbody tr th {\n",
       "        vertical-align: top;\n",
       "    }\n",
       "\n",
       "    .dataframe thead th {\n",
       "        text-align: right;\n",
       "    }\n",
       "</style>\n",
       "<table border=\"1\" class=\"dataframe\">\n",
       "  <thead>\n",
       "    <tr style=\"text-align: right;\">\n",
       "      <th></th>\n",
       "      <th>Item</th>\n",
       "      <th>Serving.size</th>\n",
       "      <th>Calories</th>\n",
       "      <th>Fat.Cal</th>\n",
       "      <th>Protein</th>\n",
       "      <th>Fat</th>\n",
       "      <th>Sat.Fat</th>\n",
       "      <th>Trans.fat</th>\n",
       "      <th>Chol</th>\n",
       "      <th>Sodium</th>\n",
       "      <th>Carbs</th>\n",
       "      <th>Fiber</th>\n",
       "      <th>Sugar</th>\n",
       "      <th>Meat</th>\n",
       "      <th>Breakfast</th>\n",
       "      <th>NotBreakfast</th>\n",
       "      <th>CarbsxMeat</th>\n",
       "    </tr>\n",
       "  </thead>\n",
       "  <tbody>\n",
       "    <tr>\n",
       "      <th>0</th>\n",
       "      <td>Hamburger</td>\n",
       "      <td>109.0</td>\n",
       "      <td>260</td>\n",
       "      <td>90.0</td>\n",
       "      <td>13</td>\n",
       "      <td>10.0</td>\n",
       "      <td>4.0</td>\n",
       "      <td>0.0</td>\n",
       "      <td>35</td>\n",
       "      <td>490</td>\n",
       "      <td>28</td>\n",
       "      <td>1.0</td>\n",
       "      <td>6</td>\n",
       "      <td>1</td>\n",
       "      <td>0</td>\n",
       "      <td>1</td>\n",
       "      <td>28</td>\n",
       "    </tr>\n",
       "    <tr>\n",
       "      <th>1</th>\n",
       "      <td>Cheeseburger</td>\n",
       "      <td>121.0</td>\n",
       "      <td>300</td>\n",
       "      <td>130.0</td>\n",
       "      <td>16</td>\n",
       "      <td>14.0</td>\n",
       "      <td>6.0</td>\n",
       "      <td>0.0</td>\n",
       "      <td>45</td>\n",
       "      <td>710</td>\n",
       "      <td>28</td>\n",
       "      <td>1.0</td>\n",
       "      <td>6</td>\n",
       "      <td>1</td>\n",
       "      <td>0</td>\n",
       "      <td>1</td>\n",
       "      <td>28</td>\n",
       "    </tr>\n",
       "    <tr>\n",
       "      <th>2</th>\n",
       "      <td>DoubleHamburger</td>\n",
       "      <td>146.0</td>\n",
       "      <td>360</td>\n",
       "      <td>160.0</td>\n",
       "      <td>22</td>\n",
       "      <td>18.0</td>\n",
       "      <td>8.0</td>\n",
       "      <td>0.0</td>\n",
       "      <td>70</td>\n",
       "      <td>520</td>\n",
       "      <td>28</td>\n",
       "      <td>1.0</td>\n",
       "      <td>6</td>\n",
       "      <td>1</td>\n",
       "      <td>0</td>\n",
       "      <td>1</td>\n",
       "      <td>28</td>\n",
       "    </tr>\n",
       "    <tr>\n",
       "      <th>3</th>\n",
       "      <td>DoubleCheeseburger</td>\n",
       "      <td>171.0</td>\n",
       "      <td>450</td>\n",
       "      <td>230.0</td>\n",
       "      <td>26</td>\n",
       "      <td>26.0</td>\n",
       "      <td>12.0</td>\n",
       "      <td>1.0</td>\n",
       "      <td>95</td>\n",
       "      <td>960</td>\n",
       "      <td>29</td>\n",
       "      <td>1.0</td>\n",
       "      <td>6</td>\n",
       "      <td>1</td>\n",
       "      <td>0</td>\n",
       "      <td>1</td>\n",
       "      <td>29</td>\n",
       "    </tr>\n",
       "    <tr>\n",
       "      <th>4</th>\n",
       "      <td>BuckDouble</td>\n",
       "      <td>158.0</td>\n",
       "      <td>410</td>\n",
       "      <td>200.0</td>\n",
       "      <td>24</td>\n",
       "      <td>22.0</td>\n",
       "      <td>10.0</td>\n",
       "      <td>0.5</td>\n",
       "      <td>85</td>\n",
       "      <td>740</td>\n",
       "      <td>28</td>\n",
       "      <td>1.0</td>\n",
       "      <td>6</td>\n",
       "      <td>1</td>\n",
       "      <td>0</td>\n",
       "      <td>1</td>\n",
       "      <td>28</td>\n",
       "    </tr>\n",
       "  </tbody>\n",
       "</table>\n",
       "</div>"
      ],
      "text/plain": [
       "                 Item  Serving.size  Calories  Fat.Cal  Protein   Fat  \\\n",
       "0           Hamburger         109.0       260     90.0       13  10.0   \n",
       "1        Cheeseburger         121.0       300    130.0       16  14.0   \n",
       "2     DoubleHamburger         146.0       360    160.0       22  18.0   \n",
       "3  DoubleCheeseburger         171.0       450    230.0       26  26.0   \n",
       "4          BuckDouble         158.0       410    200.0       24  22.0   \n",
       "\n",
       "   Sat.Fat  Trans.fat  Chol  Sodium  Carbs  Fiber  Sugar  Meat  Breakfast  \\\n",
       "0      4.0        0.0    35     490     28    1.0      6     1          0   \n",
       "1      6.0        0.0    45     710     28    1.0      6     1          0   \n",
       "2      8.0        0.0    70     520     28    1.0      6     1          0   \n",
       "3     12.0        1.0    95     960     29    1.0      6     1          0   \n",
       "4     10.0        0.5    85     740     28    1.0      6     1          0   \n",
       "\n",
       "   NotBreakfast  CarbsxMeat  \n",
       "0             1          28  \n",
       "1             1          28  \n",
       "2             1          28  \n",
       "3             1          29  \n",
       "4             1          28  "
      ]
     },
     "execution_count": 2,
     "metadata": {},
     "output_type": "execute_result"
    }
   ],
   "source": [
    "items = pd.read_csv('burger-king-items.csv', sep = ' ')\n",
    "items.head()"
   ]
  },
  {
   "cell_type": "markdown",
   "metadata": {},
   "source": [
    "<font color = green> **Loss function**: <font color = black>"
   ]
  },
  {
   "cell_type": "markdown",
   "metadata": {},
   "source": [
    "<font color = green> **Root mean squared error**: <font color = black> The loss function defined by:\n",
    "    \n",
    "$$RMSE(\\hat y) = \\sqrt{\\frac{1}{n - 1} \\sum_{i = 0}^{n-1} (y_i - \\hat y)^2 } $$\n",
    "    \n",
    "where $\\hat y$ is any kind of predicted or estimated value."
   ]
  },
  {
   "cell_type": "code",
   "execution_count": 3,
   "metadata": {},
   "outputs": [],
   "source": [
    "# The version of RMSE from the slides\n",
    "def rmse(z, data):\n",
    "    n = len(data)\n",
    "    diff = (z - data) ** 2\n",
    "    return np.sqrt(sum(diff / (n-1)))"
   ]
  },
  {
   "cell_type": "code",
   "execution_count": 6,
   "metadata": {},
   "outputs": [
    {
     "data": {
      "image/png": "[encoded data removed]",
      "text/plain": [
       "<Figure size 432x288 with 1 Axes>"
      ]
     },
     "metadata": {
      "needs_background": "light"
     },
     "output_type": "display_data"
    }
   ],
   "source": [
    "x = np.arange(0, 1400, 1)\n",
    "y = np.array([rmse(x[i], items['Calories']) for i in range(1400)])\n",
    "plt.figure()\n",
    "items['Calories'].hist(bins = range(0, 1450, 50))\n",
    "plt.plot(x, y * 0.02) # Scale the y values down so that the histogram is visible at the same time\n",
    "plt.title('Calories in Burger King items')\n",
    "plt.ylim(0, 20)\n",
    "plt.xlabel('Calories')\n",
    "plt.ylabel('Frequency')\n",
    "plt.show()"
   ]
  },
  {
   "cell_type": "markdown",
   "metadata": {},
   "source": [
    "Where is the minimum value? We can use `np.argmin` to find out. `min` returns the minimum value; `argmin` returns the position in an array where the minimum value appears."
   ]
  },
  {
   "cell_type": "code",
   "execution_count": 7,
   "metadata": {},
   "outputs": [
    {
     "data": {
      "text/plain": [
       "460"
      ]
     },
     "execution_count": 7,
     "metadata": {},
     "output_type": "execute_result"
    }
   ],
   "source": [
    "np.argmin(y)"
   ]
  },
  {
   "cell_type": "code",
   "execution_count": 8,
   "metadata": {},
   "outputs": [
    {
     "data": {
      "text/plain": [
       "459.52991452991455"
      ]
     },
     "execution_count": 8,
     "metadata": {},
     "output_type": "execute_result"
    }
   ],
   "source": [
    "items['Calories'].mean()"
   ]
  },
  {
   "cell_type": "markdown",
   "metadata": {},
   "source": [
    "### Another loss function"
   ]
  },
  {
   "cell_type": "markdown",
   "metadata": {},
   "source": [
    "<font color = green> **Mean absolute deviation:** <font color = black> The loss function defined by\n",
    "    \n",
    "$$ MAD(\\hat y) = \\frac{1}{n} \\sum_{i = 0}^{n - 1} |y_i - \\hat y| $$\n",
    "    \n",
    "Again, $\\hat y$ is a predicted or estimated value."
   ]
  },
  {
   "cell_type": "markdown",
   "metadata": {},
   "source": [
    "**Exercise:** Write a function called `mad` that takes an estimate and a Series and returns the mean absolute deviation of the estimate from the values in the series. *Hint*: you can use `np.abs` to compute absolute values."
   ]
  },
  {
   "cell_type": "code",
   "execution_count": 14,
   "metadata": {},
   "outputs": [],
   "source": [
    "def mad(z, data):\n",
    "    n = len(data)\n",
    "    diff = data - z\n",
    "    return sum(np.abs(diff)/n)"
   ]
  },
  {
   "cell_type": "markdown",
   "metadata": {},
   "source": [
    "Once you have defined `mad`, the code below will work."
   ]
  },
  {
   "cell_type": "code",
   "execution_count": 15,
   "metadata": {},
   "outputs": [
    {
     "data": {
      "image/png": "[encoded data removed]",
      "text/plain": [
       "<Figure size 432x288 with 1 Axes>"
      ]
     },
     "metadata": {
      "needs_background": "light"
     },
     "output_type": "display_data"
    }
   ],
   "source": [
    "x = np.arange(0, 1400, 1)\n",
    "y = np.array([mad(x[i], items['Calories']) for i in range(1400)])\n",
    "plt.figure()\n",
    "items['Calories'].hist(bins = range(0, 1450, 50))\n",
    "plt.plot(x, y * 0.02) # Scale the y values down so that the histogram is visible at the same time\n",
    "plt.title('Calories in Burger King items')\n",
    "plt.ylim(0, 20)\n",
    "plt.xlabel('Calories')\n",
    "plt.ylabel('Frequency')\n",
    "#plt.savefig('histnocurve.png')\n",
    "plt.show()"
   ]
  },
  {
   "cell_type": "code",
   "execution_count": 11,
   "metadata": {},
   "outputs": [
    {
     "data": {
      "text/plain": [
       "410"
      ]
     },
     "execution_count": 11,
     "metadata": {},
     "output_type": "execute_result"
    }
   ],
   "source": [
    "np.argmin(y)"
   ]
  },
  {
   "cell_type": "code",
   "execution_count": 16,
   "metadata": {},
   "outputs": [
    {
     "data": {
      "text/plain": [
       "410.0"
      ]
     },
     "execution_count": 16,
     "metadata": {},
     "output_type": "execute_result"
    }
   ],
   "source": [
    "items['Calories'].median()"
   ]
  },
  {
   "cell_type": "markdown",
   "metadata": {},
   "source": [
    "## A (slightly) silly approach to linear regression"
   ]
  },
  {
   "cell_type": "code",
   "execution_count": 17,
   "metadata": {},
   "outputs": [
    {
     "data": {
      "text/html": [
       "<div>\n",
       "<style scoped>\n",
       "    .dataframe tbody tr th:only-of-type {\n",
       "        vertical-align: middle;\n",
       "    }\n",
       "\n",
       "    .dataframe tbody tr th {\n",
       "        vertical-align: top;\n",
       "    }\n",
       "\n",
       "    .dataframe thead th {\n",
       "        text-align: right;\n",
       "    }\n",
       "</style>\n",
       "<table border=\"1\" class=\"dataframe\">\n",
       "  <thead>\n",
       "    <tr style=\"text-align: right;\">\n",
       "      <th></th>\n",
       "      <th>year</th>\n",
       "      <th>global_temp_anomaly</th>\n",
       "      <th>CO2ppm</th>\n",
       "      <th>DJIA</th>\n",
       "    </tr>\n",
       "  </thead>\n",
       "  <tbody>\n",
       "    <tr>\n",
       "      <th>0</th>\n",
       "      <td>1959</td>\n",
       "      <td>0.0596</td>\n",
       "      <td>315.97</td>\n",
       "      <td>679.36</td>\n",
       "    </tr>\n",
       "    <tr>\n",
       "      <th>1</th>\n",
       "      <td>1960</td>\n",
       "      <td>0.0204</td>\n",
       "      <td>316.91</td>\n",
       "      <td>615.89</td>\n",
       "    </tr>\n",
       "    <tr>\n",
       "      <th>2</th>\n",
       "      <td>1961</td>\n",
       "      <td>0.0775</td>\n",
       "      <td>317.64</td>\n",
       "      <td>731.14</td>\n",
       "    </tr>\n",
       "    <tr>\n",
       "      <th>3</th>\n",
       "      <td>1962</td>\n",
       "      <td>0.0888</td>\n",
       "      <td>318.45</td>\n",
       "      <td>652.10</td>\n",
       "    </tr>\n",
       "    <tr>\n",
       "      <th>4</th>\n",
       "      <td>1963</td>\n",
       "      <td>0.1068</td>\n",
       "      <td>318.99</td>\n",
       "      <td>762.95</td>\n",
       "    </tr>\n",
       "  </tbody>\n",
       "</table>\n",
       "</div>"
      ],
      "text/plain": [
       "   year  global_temp_anomaly  CO2ppm    DJIA\n",
       "0  1959               0.0596  315.97  679.36\n",
       "1  1960               0.0204  316.91  615.89\n",
       "2  1961               0.0775  317.64  731.14\n",
       "3  1962               0.0888  318.45  652.10\n",
       "4  1963               0.1068  318.99  762.95"
      ]
     },
     "execution_count": 17,
     "metadata": {},
     "output_type": "execute_result"
    }
   ],
   "source": [
    "ccdata = pd.read_csv('climate-change-2016.csv')\n",
    "ccdata.head()"
   ]
  },
  {
   "cell_type": "code",
   "execution_count": 18,
   "metadata": {},
   "outputs": [
    {
     "data": {
      "image/png": "[encoded data removed]",
      "text/plain": [
       "<Figure size 432x288 with 1 Axes>"
      ]
     },
     "metadata": {
      "needs_background": "light"
     },
     "output_type": "display_data"
    }
   ],
   "source": [
    "ccdata.plot('CO2ppm', 'global_temp_anomaly', kind = 'scatter')\n",
    "plt.show()"
   ]
  },
  {
   "cell_type": "markdown",
   "metadata": {},
   "source": [
    "<font color = green> **Standardized value:** <font color = black> Also known as a $z$ score; the standardized value of $x_i$ is given by the formula\n",
    "    \n",
    "$$ z = \\frac{x - \\bar x}{s} $$\n",
    "\n",
    "where $\\bar x$ is the sample mean, $s$ the sample standard deviation."
   ]
  },
  {
   "cell_type": "markdown",
   "metadata": {},
   "source": [
    "Once our data is standardized, we only have to estimate a slope. Then our model has the formula:\n",
    "\n",
    "$\\hat y_i = b x_i$\n",
    "\n",
    "and we can plug the predicted values $\\hat y_i$ into the RMSE formula and think of it as a function of $b$:\n",
    "\n",
    "$$ RMSE(b) = \\sqrt{\\frac{1}{n-1} \\sum_{i=0}^{n-1} (y_i - b x_i)^2 }$$"
   ]
  },
  {
   "cell_type": "markdown",
   "metadata": {},
   "source": [
    "**Exercise**: Write a function called `line_rmse` that takes a slope `b`, a `Series` of `x` values and a `Series` of `y` values, and returns the RMSE of the predicted values."
   ]
  },
  {
   "cell_type": "code",
   "execution_count": 19,
   "metadata": {},
   "outputs": [],
   "source": [
    "def line_rmse(b, x, y):\n",
    "    n = len(x)\n",
    "    predictions = b * x\n",
    "    diff = (y - predictions) ** 2\n",
    "    return np.sqrt(sum(diff) / (n - 1))"
   ]
  },
  {
   "cell_type": "code",
   "execution_count": 21,
   "metadata": {},
   "outputs": [],
   "source": [
    "# Standardize some data\n",
    "co2std = (ccdata['CO2ppm'] - ccdata['CO2ppm'].mean()) / ccdata['CO2ppm'].std()\n",
    "tempstd = (ccdata['global_temp_anomaly'] - ccdata['global_temp_anomaly'].mean()) / ccdata['global_temp_anomaly'].std()"
   ]
  },
  {
   "cell_type": "code",
   "execution_count": 22,
   "metadata": {},
   "outputs": [
    {
     "data": {
      "text/plain": [
       "array([ 0.638725  , -0.3719218 , -0.8674919 ,  0.85016654,  0.84399748,\n",
       "       -0.31166349, -0.32413825,  0.26224895,  0.33549884,  0.91472917,\n",
       "        0.09839808,  0.6682016 ,  0.42851577,  0.04241402, -0.01973627,\n",
       "       -0.97313593,  0.95185533, -0.15827237,  0.69132209,  0.30482004,\n",
       "       -0.22796704, -0.17176569,  0.24645617, -0.84752544, -0.17442869])"
      ]
     },
     "execution_count": 22,
     "metadata": {},
     "output_type": "execute_result"
    }
   ],
   "source": [
    "guesses = np.random.uniform(-1, 1, 25)\n",
    "guesses"
   ]
  },
  {
   "cell_type": "code",
   "execution_count": 23,
   "metadata": {},
   "outputs": [
    {
     "data": {
      "text/plain": [
       "array([0.44478627, 1.35756127, 1.84285134, 0.33473734, 0.33657934,\n",
       "       1.29908233, 1.3111755 , 0.75625063, 0.69059395, 0.32198508,\n",
       "       0.90733467, 0.42486695, 0.60971755, 0.95991714, 1.01871589,\n",
       "       1.94697371, 0.32036527, 1.15104934, 0.41004934, 0.71791375,\n",
       "       1.21814515, 1.16401566, 0.77058569, 1.82319214, 1.16657607])"
      ]
     },
     "execution_count": 23,
     "metadata": {},
     "output_type": "execute_result"
    }
   ],
   "source": [
    "rmses = np.array([line_rmse(guesses[i], co2std, tempstd) for i in range(25)])\n",
    "rmses"
   ]
  },
  {
   "cell_type": "code",
   "execution_count": 25,
   "metadata": {},
   "outputs": [
    {
     "data": {
      "image/png": "[encoded data removed]",
      "text/plain": [
       "<Figure size 432x288 with 1 Axes>"
      ]
     },
     "metadata": {
      "needs_background": "light"
     },
     "output_type": "display_data"
    }
   ],
   "source": [
    "guesses = np.random.uniform(-1, 1, 25)\n",
    "rmses = np.array([line_rmse(guesses[i], co2std, tempstd) for i in range(25)])\n",
    "plt.plot(co2std, tempstd, 'o')\n",
    "for i in range(25):\n",
    "    y = guesses[i] * co2std\n",
    "    plt.plot(co2std, y, color = 'red', alpha = 0.5)\n",
    "plt.show()"
   ]
  },
  {
   "cell_type": "code",
   "execution_count": 29,
   "metadata": {},
   "outputs": [
    {
     "data": {
      "image/png": "[encoded data removed]",
      "text/plain": [
       "<Figure size 432x288 with 1 Axes>"
      ]
     },
     "metadata": {
      "needs_background": "light"
     },
     "output_type": "display_data"
    }
   ],
   "source": [
    "guesses = np.random.uniform(-1, 1, 25)\n",
    "rmses = np.array([line_rmse(guesses[i], co2std, tempstd) for i in range(25)])\n",
    "plt.plot(co2std, tempstd, 'o')\n",
    "best_guess = guesses[np.argmin(rmses)]\n",
    "y = best_guess * co2std\n",
    "plt.plot(co2std, y, color = 'red')\n",
    "plt.show()"
   ]
  },
  {
   "cell_type": "markdown",
   "metadata": {},
   "source": [
    "Exercise: write a `line_mad` to calculate mean absolute deviation for a slope, and try finding the best line according to that."
   ]
  },
  {
   "cell_type": "code",
   "execution_count": null,
   "metadata": {},
   "outputs": [],
   "source": []
  }
 ],
 "metadata": {
  "kernelspec": {
   "display_name": "Python 3",
   "language": "python",
   "name": "python3"
  },
  "language_info": {
   "codemirror_mode": {
    "name": "ipython",
    "version": 3
   },
   "file_extension": ".py",
   "mimetype": "text/x-python",
   "name": "python",
   "nbconvert_exporter": "python",
   "pygments_lexer": "ipython3",
   "version": "3.8.2"
  }
 },
 "nbformat": 4,
 "nbformat_minor": 4
}
