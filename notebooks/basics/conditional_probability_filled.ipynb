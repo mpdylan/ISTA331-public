{
 "cells": [
  {
   "cell_type": "markdown",
   "metadata": {},
   "source": [
    "# Probability and conditional probability"
   ]
  },
  {
   "cell_type": "code",
   "execution_count": null,
   "metadata": {},
   "outputs": [],
   "source": [
    "import pandas as pd\n",
    "books = pd.read_csv('books001.csv', index_col = 0)\n",
    "books.head()"
   ]
  },
  {
   "cell_type": "markdown",
   "metadata": {},
   "source": [
    "Now we will review some jargon from the field of probability and relate it to our ML jargon using this data as an example."
   ]
  },
  {
   "cell_type": "markdown",
   "metadata": {},
   "source": [
    "<font color=green>__Random variable:__</font> A random variable is a quantity of interest that can take on one of at least two possible values.  What are some of the random variable(s) in our example? "
   ]
  },
  {
   "cell_type": "markdown",
   "metadata": {},
   "source": [
    "<font color=green>__Outcome:__</font> An outcome is a possible value that a random variable can take on. In common usage, an outcome is an actual result. In probability, an outcome is equivalent to a possible outcome in common usage. Is `'# of Pages' == 341` an outcome in our `books` example? **Yes**"
   ]
  },
  {
   "cell_type": "markdown",
   "metadata": {},
   "source": [
    "<font color=green>__Event:__</font> An event is a set of outcomes. In common usage, an event is something that actually happens. In probability, an event is equivalent to a possible event in common usage. Is `Price >= 10.00` an event in our `books` example? **Yes**"
   ]
  },
  {
   "cell_type": "markdown",
   "metadata": {},
   "source": [
    "<font color=green>__Frequency of an event:__</font> The frequency of an event is the number of times it occurs in a dataset. What is the frequency of `'Book Type' != 'Textbook'` in our `books` example?"
   ]
  },
  {
   "cell_type": "code",
   "execution_count": null,
   "metadata": {},
   "outputs": [],
   "source": [
    "set(books['Book Type'])"
   ]
  },
  {
   "cell_type": "code",
   "execution_count": null,
   "metadata": {},
   "outputs": [],
   "source": [
    "len(books[books['Book Type'] != 'Textbook'])"
   ]
  },
  {
   "cell_type": "markdown",
   "metadata": {},
   "source": [
    "<font color=green>__Relative Frequency of an event:__</font> The relative frequency of an event is the number of times it occurs in a dataset divided by the number of observations. What is the relative frequency of `'Book Type' != 'Textbook'` in our `books` example?"
   ]
  },
  {
   "cell_type": "code",
   "execution_count": null,
   "metadata": {},
   "outputs": [],
   "source": [
    "len(books[books['Book Type'] != 'Textbook']) / len(books)"
   ]
  },
  {
   "cell_type": "markdown",
   "metadata": {},
   "source": [
    "<font color=green>__Estimated probability of an event:__</font> The estimated probability of an event is the relative frequency of the event in our dataset or a subset of our dataset. In our example, the relative frequency of our example event is the exact probability that a randomly selected book in this set of books is not a textbook. We could use it as an estimated probability that any randomly selected book is not a textbook. Do you see any problems with this? **This is probably an underestimate of the probability of non-textbooks (i.e. overestimate of the frequency of textbooks) in the general population, because our sample is coming from college students.**"
   ]
  },
  {
   "cell_type": "markdown",
   "metadata": {},
   "source": [
    "## Exercises"
   ]
  },
  {
   "cell_type": "markdown",
   "metadata": {},
   "source": [
    "1. What is the frequency of the event that a book has at least 400 pages? What is the estimated probability that a book has at least 400 pages?"
   ]
  },
  {
   "cell_type": "code",
   "execution_count": null,
   "metadata": {},
   "outputs": [],
   "source": [
    "len(books[books['# of Pages'] >= 400]) / len(books)"
   ]
  },
  {
   "cell_type": "markdown",
   "metadata": {},
   "source": [
    "2. What is the estimated probability that a book costs more than 15 dollars?"
   ]
  },
  {
   "cell_type": "code",
   "execution_count": null,
   "metadata": {},
   "outputs": [],
   "source": [
    "len(books[books['Price'] > 15]) / len(books)"
   ]
  },
  {
   "cell_type": "markdown",
   "metadata": {},
   "source": [
    "3. What is the estimated probability that a book has at least 400 pages **and** costs more than 15 dollars?"
   ]
  },
  {
   "cell_type": "code",
   "execution_count": null,
   "metadata": {},
   "outputs": [],
   "source": [
    "#(len(books[books['# of Pages'] >= 400]) / len(books)) * (len(books[books['Price'] > 15]) / len(books))\n",
    "len(books[(books['# of Pages'] >= 400) & (books['Price'] > 15)]) / len(books)"
   ]
  },
  {
   "cell_type": "markdown",
   "metadata": {},
   "source": [
    "4. What is the estimated probability that a book costs more than 15 dollars **if** it has at least 400 pages?"
   ]
  },
  {
   "cell_type": "code",
   "execution_count": null,
   "metadata": {},
   "outputs": [],
   "source": [
    "longbooks = books[books['# of Pages'] >= 400]\n",
    "len(longbooks[longbooks['Price'] > 15]) / len(longbooks)"
   ]
  },
  {
   "cell_type": "markdown",
   "metadata": {},
   "source": [
    "5. Are the two events you considered in the previous four exercises independent? **No.** What is the name for the kind of probability you calculated in exercise 4?"
   ]
  },
  {
   "cell_type": "markdown",
   "metadata": {},
   "source": [
    "## Conditional probability"
   ]
  },
  {
   "cell_type": "markdown",
   "metadata": {},
   "source": [
    "Let's look at another data set: some daily weather data measured at Tucson International Airport from 1987 to 2016."
   ]
  },
  {
   "cell_type": "code",
   "execution_count": null,
   "metadata": {},
   "outputs": [],
   "source": [
    "df = pd.read_csv('TIA_1987_2016_with_dates.csv', index_col = 0, parse_dates = True)\n",
    "df.head(31)"
   ]
  },
  {
   "cell_type": "markdown",
   "metadata": {},
   "source": [
    "We'll start by looking at the first month in the data set: January 1987."
   ]
  },
  {
   "cell_type": "code",
   "execution_count": null,
   "metadata": {},
   "outputs": [],
   "source": [
    "jan87 = df.head(31).copy()\n",
    "jan87"
   ]
  },
  {
   "cell_type": "markdown",
   "metadata": {},
   "source": [
    "**Exercise**: Can you think of another way to select out January 1987?"
   ]
  },
  {
   "cell_type": "code",
   "execution_count": null,
   "metadata": {},
   "outputs": [],
   "source": []
  },
  {
   "cell_type": "markdown",
   "metadata": {},
   "source": [
    "**Question**: What does `copy()` do? Why would we want to use it?"
   ]
  },
  {
   "cell_type": "markdown",
   "metadata": {},
   "source": [
    "What is the probability that it rained or snowed at TIA in January of 1987 given that the dewpoint was at least 30?"
   ]
  },
  {
   "cell_type": "markdown",
   "metadata": {},
   "source": [
    "How did you figure that out?  What do we call the quantities that you used?"
   ]
  },
  {
   "cell_type": "markdown",
   "metadata": {},
   "source": [
    "<font color=green>__Conditional Probability:__</font> Given events _A_ and *B</t>*, we write P(*A</t>* | *B</t>*) as the symbol for 'the conditional probability of *A</t>* given *B</t>*'.  In other words, the conditional probability of *A</t>* assuming that *B</t>* has actually occurred.  Thinking about what we just did, define *A</t>* and *B</t>* for our example.  Write a formula for P(*A</t>* | *B</t>*) in terms of frequencies of *A</t>* and *B</t>* using our example as a template.\n",
    "\n",
    "$A = (\\mathtt{Pcpn} > 0)$\n",
    "\n",
    "$B = (\\mathtt{Dewpt} \\geq 30)$\n",
    "\n",
    "$P(A | B) = \\frac{\\mathrm{Freq}(A \\cap B)}{\\mathrm{Freq(B)}}$\n",
    "\n",
    "$P(A | B) = \\frac{\\mathrm{P}(A \\cap B)}{\\mathrm{P(B)}}$\n",
    "\n",
    "The symbol $\\cap$ is the \"intersection\" symbol from set theory, and here can be interpreted as \"and\""
   ]
  },
  {
   "cell_type": "markdown",
   "metadata": {},
   "source": [
    "What happens if you divide both numerator and denominator of the right-hand side by _N_?  (What does *N* stand for? What is it in this example?)  Rewrite the formula in terms of these new derived quantities."
   ]
  },
  {
   "cell_type": "markdown",
   "metadata": {},
   "source": [
    "Suppose we are interested in the dewpoint-precip relationship for all Januaries.  What is the data for January, 1987?  What have we calculated about all Januaries?  How can we improve it?  What confounding factors are there?"
   ]
  },
  {
   "cell_type": "markdown",
   "metadata": {},
   "source": [
    "Let's use Python to calculate the conditional probability using both formulae."
   ]
  },
  {
   "cell_type": "code",
   "execution_count": null,
   "metadata": {},
   "outputs": [],
   "source": [
    "B = jan87[jan87.Dewpt >= 30]\n",
    "B"
   ]
  },
  {
   "cell_type": "code",
   "execution_count": null,
   "metadata": {
    "scrolled": true
   },
   "outputs": [],
   "source": [
    "A_and_B = B[B.Pcpn > 0]\n",
    "A_and_B"
   ]
  },
  {
   "cell_type": "code",
   "execution_count": null,
   "metadata": {},
   "outputs": [],
   "source": [
    "A_and_B_also = jan87[(jan87.Dewpt >= 30) & (jan87.Pcpn > 0)]\n",
    "A_and_B_also"
   ]
  },
  {
   "cell_type": "code",
   "execution_count": null,
   "metadata": {},
   "outputs": [],
   "source": [
    "len(A_and_B_also) / len(B)"
   ]
  },
  {
   "cell_type": "code",
   "execution_count": null,
   "metadata": {},
   "outputs": [],
   "source": [
    "len(jan87[jan87['Pcpn'] > 0]) / len(jan87)"
   ]
  },
  {
   "cell_type": "markdown",
   "metadata": {},
   "source": [
    "## <font color=blue> Exercises"
   ]
  },
  {
   "cell_type": "markdown",
   "metadata": {},
   "source": [
    "1. Write code that makes a new frame containing the data for December, 2004 from our example frame. What is the estimated probability that the maximum temperature for the day is over 60 if the minimum was over 30 on any given December day in Tucson? What is the conditional probability that the minimum temperature was over 30 given that max was over 60? Is it always true that $P(A | B) == P(B | A)$?"
   ]
  },
  {
   "cell_type": "code",
   "execution_count": null,
   "metadata": {},
   "outputs": [],
   "source": [
    "dec04 = df['2004-12-01':'2004-12-31']\n",
    "print(sum((dec04['MaxT'] > 60) & (dec04['MinT'] > 30)) / sum(dec04['MinT'] > 30))\n",
    "print(sum((dec04['MaxT'] > 60) & (dec04['MinT'] > 30)) / sum(dec04['MaxT'] > 60))"
   ]
  },
  {
   "cell_type": "markdown",
   "metadata": {},
   "source": [
    "2. Write a function called `get_P` that takes a frame, an attribute, a cutoff, another attribute, and another cutoff. It should return the conditional probability that the first attribute is greater than the first cutoff given that the second attribute is greater than the second cutoff."
   ]
  },
  {
   "cell_type": "code",
   "execution_count": null,
   "metadata": {},
   "outputs": [],
   "source": [
    "def get_P(df, attr1, cutoff1, attr2, cutoff2):\n",
    "    intersect = sum((df[attr1] > cutoff1) & (df[attr2] > cutoff2))\n",
    "    return intersect / sum(df[attr2] > cutoff2)"
   ]
  },
  {
   "cell_type": "code",
   "execution_count": null,
   "metadata": {},
   "outputs": [],
   "source": [
    "#test get_P with the result of the previous problem:\n",
    "get_P(dec04, 'MaxT', 60, 'MinT', 30)"
   ]
  },
  {
   "cell_type": "markdown",
   "metadata": {},
   "source": [
    "### Summary: why conditional probability?"
   ]
  },
  {
   "cell_type": "markdown",
   "metadata": {},
   "source": [
    "Many machine learning models boil down to an attempt to estimate the probability distribution of the target variable, given the values of the predictors. A few simple examples:\n",
    "\n",
    "**Credit decisions:** Given a customer's credit score, income, and age, what is the probability that they will successfully pay back a loan?\n",
    "\n",
    "**Spam filtering:** Given that an email contains the words \"prince\", \"bank account\", and \"inheritance\", what is the probability that the email is spam?\n",
    "\n",
    "**Recommendation systems**: Given that a customer has purchased *The Lord of the Rings*, what is the probability that they will also purchase *A Game of Thrones*?"
   ]
  },
  {
   "cell_type": "code",
   "execution_count": null,
   "metadata": {},
   "outputs": [],
   "source": []
  }
 ],
 "metadata": {
  "kernelspec": {
   "display_name": "Python 3",
   "language": "python",
   "name": "python3"
  },
  "language_info": {
   "codemirror_mode": {
    "name": "ipython",
    "version": 3
   },
   "file_extension": ".py",
   "mimetype": "text/x-python",
   "name": "python",
   "nbconvert_exporter": "python",
   "pygments_lexer": "ipython3",
   "version": "3.8.2"
  }
 },
 "nbformat": 4,
 "nbformat_minor": 4
}
